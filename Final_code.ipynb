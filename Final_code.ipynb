{
 "cells": [
  {
   "cell_type": "code",
   "execution_count": 2,
   "metadata": {
    "collapsed": false
   },
   "outputs": [],
   "source": [
    "from pyspark.mllib.clustering import LDA, LDAModel\n",
    "from pyspark.mllib.linalg import Vectors\n",
    "\n",
    "data = sc.textFile(\"C:/Users/Suhas/Documents/MSBA/Semester Two/Harvesting Big Data/Project/Data/all_data.txt\")"
   ]
  },
  {
   "cell_type": "markdown",
   "metadata": {},
   "source": [
    "Tokenizer"
   ]
  },
  {
   "cell_type": "code",
   "execution_count": 3,
   "metadata": {
    "collapsed": true
   },
   "outputs": [],
   "source": [
    "from nltk.tokenize import RegexpTokenizer\n",
    "tokenizer = RegexpTokenizer(r'\\w+')"
   ]
  },
  {
   "cell_type": "markdown",
   "metadata": {},
   "source": [
    "Removing punctuations and numbers"
   ]
  },
  {
   "cell_type": "code",
   "execution_count": 4,
   "metadata": {
    "collapsed": true
   },
   "outputs": [],
   "source": [
    "import re\n",
    "def removePunctuation(text):\n",
    "    inter1 = re.sub('[^a-z| |]', '', text.strip().lower().encode('utf-8'))\n",
    "    inter2 = inter1.replace(\"\\'\", \"\")\n",
    "    return inter2"
   ]
  },
  {
   "cell_type": "code",
   "execution_count": 5,
   "metadata": {
    "collapsed": true
   },
   "outputs": [],
   "source": [
    "data_sanspunct = data.map(removePunctuation)"
   ]
  },
  {
   "cell_type": "markdown",
   "metadata": {},
   "source": [
    "Removing Stop Words"
   ]
  },
  {
   "cell_type": "code",
   "execution_count": 6,
   "metadata": {
    "collapsed": false
   },
   "outputs": [],
   "source": [
    "from stop_words import get_stop_words\n",
    "en_stop = get_stop_words('en')\n",
    "\n",
    "def removeStopWords(line):\n",
    "    tokens = tokenizer.tokenize(line)\n",
    "    words = [i for i in tokens if not i in en_stop]\n",
    "    return words"
   ]
  },
  {
   "cell_type": "code",
   "execution_count": 7,
   "metadata": {
    "collapsed": true
   },
   "outputs": [],
   "source": [
    "data_sansstopwords = data_sanspunct.map(removeStopWords)"
   ]
  },
  {
   "cell_type": "markdown",
   "metadata": {},
   "source": [
    "Stemming"
   ]
  },
  {
   "cell_type": "code",
   "execution_count": 8,
   "metadata": {
    "collapsed": true
   },
   "outputs": [],
   "source": [
    "from nltk.stem.porter import PorterStemmer\n",
    "p_stemmer = PorterStemmer()\n",
    "\n",
    "def stemmingWords(words):\n",
    "    stemmed_word = [p_stemmer.stem(i) for i in words]\n",
    "    return stemmed_word"
   ]
  },
  {
   "cell_type": "code",
   "execution_count": 9,
   "metadata": {
    "collapsed": true
   },
   "outputs": [],
   "source": [
    "data_sansstemmingwords = data_sansstopwords.map(stemmingWords)"
   ]
  },
  {
   "cell_type": "markdown",
   "metadata": {},
   "source": [
    "Creating document-term matrix"
   ]
  },
  {
   "cell_type": "code",
   "execution_count": 10,
   "metadata": {
    "collapsed": false
   },
   "outputs": [
    {
     "name": "stderr",
     "output_type": "stream",
     "text": [
      "C:\\Users\\Suhas\\Anaconda2\\lib\\site-packages\\gensim\\utils.py:840: UserWarning: detected Windows; aliasing chunkize to chunkize_serial\n",
      "  warnings.warn(\"detected Windows; aliasing chunkize to chunkize_serial\")\n",
      "C:\\Users\\Suhas\\Anaconda2\\lib\\site-packages\\gensim\\utils.py:1015: UserWarning: Pattern library is not installed, lemmatization won't be available.\n",
      "  warnings.warn(\"Pattern library is not installed, lemmatization won't be available.\")\n"
     ]
    }
   ],
   "source": [
    "import gensim \n",
    "from gensim import corpora, models\n",
    "\n",
    "def documentTermMatrix(texts):\n",
    "    dictionary = corpora.Dictionary(texts)\n",
    "    return dictionary"
   ]
  },
  {
   "cell_type": "code",
   "execution_count": 11,
   "metadata": {
    "collapsed": false
   },
   "outputs": [],
   "source": [
    "corpus = data_sansstemmingwords.map(lambda word:documentTermMatrix(word))"
   ]
  },
  {
   "cell_type": "code",
   "execution_count": 12,
   "metadata": {
    "collapsed": false
   },
   "outputs": [],
   "source": [
    "word_list = data_sansstemmingwords.collect()[0]"
   ]
  },
  {
   "cell_type": "code",
   "execution_count": 13,
   "metadata": {
    "collapsed": true
   },
   "outputs": [],
   "source": [
    "doc_clean = [doc.split() for doc in word_list]\n",
    "dictionary = corpora.Dictionary(doc_clean)\n",
    "corpus = [dictionary.doc2bow(text) for text in doc_clean]"
   ]
  },
  {
   "cell_type": "code",
   "execution_count": 14,
   "metadata": {
    "collapsed": false
   },
   "outputs": [],
   "source": [
    "import gensim\n",
    "from gensim import corpora, models\n",
    "\n",
    "ldamodel = gensim.models.ldamodel.LdaModel(corpus, num_topics=30, id2word = dictionary, iterations=3, random_state=7)"
   ]
  },
  {
   "cell_type": "code",
   "execution_count": 15,
   "metadata": {
    "collapsed": false
   },
   "outputs": [],
   "source": [
    "# select top 50 words for each of the 20 LDA topics\n",
    "top_words = [[str(word[0].encode('utf-8')) for word in ldamodel.show_topic(topicno, topn=50)] for topicno in range(ldamodel.num_topics)]"
   ]
  },
  {
   "cell_type": "code",
   "execution_count": 16,
   "metadata": {
    "collapsed": false
   },
   "outputs": [
    {
     "name": "stdout",
     "output_type": "stream",
     "text": [
      "Topic 0: time know happen wasnut uthi stand let ever put noth\n",
      "Topic 1: just come two race still better ufollow ulanda includ expert\n",
      "Topic 2: player guy complet give comment field went victori michigan uniform\n",
      "Topic 3: right use chang doesnut late overal america anyth car usual\n",
      "Topic 4: get countri presid report second bring th highli either line\n",
      "Topic 5: u leagu slalom pick real thereu stop packer obvious bryant\n",
      "Topic 6: said game uth fan shot era life news uthatu winud\n",
      "Topic 7: ui start next made keep mani candid left bradi note\n",
      "Topic 8: year landau return believ offici four away uwhat washington although\n",
      "Topic 9: need take lot ball deal papadaki uhe live spent less\n",
      "Topic 10: like got came new injuri show issu defens roster uin\n",
      "Topic 11: one donut goal call coach young help eight wear wild\n",
      "Topic 12: man norman pat train turn cut sure goodel respect thought\n",
      "Topic 13: way well won miss twitter fact test place dak russia\n",
      "Topic 14: none never szew told home prix coupl due terribl uuch\n",
      "Topic 15: team see realli top s around count big ago part\n",
      "Topic 16: now week someth beat side dez cup fumbl half wednesday\n",
      "Topic 17: back career sport day organ pennsylvania club took tuesday total\n",
      "Topic 18: play itu point lead sign work sunday uit far watch\n",
      "Topic 19: even elect us best contract hope person decid three giant\n",
      "Topic 20: can much also ua lost democrat finish inform save check\n",
      "Topic 21: make tri mr score lose polic done problem qb power\n",
      "Topic 22: will didnut earnhardt canut pitcher ballot titl thank nice wonut\n",
      "Topic 23: go nfl final great alway famili name campaign perfect close\n",
      "Topic 24: look night million result recount mean hit machin differ anyon\n",
      "Topic 25: last win state clinton everi pass talk twin support ubut\n",
      "Topic 26: vote season want say think first world thing anoth littl\n",
      "Topic 27: good run nation footbal ium playoff sinc dalla matter least\n",
      "Topic 28: peopl thatu heu moir concuss media five form seem though\n",
      "Topic 29: trump cowboy uif may champion lebron move super polit probabl\n"
     ]
    }
   ],
   "source": [
    "import itertools\n",
    "import  numpy as np\n",
    "# get all top 50 words in all 20 topics, as one large set\n",
    "all_words = set(itertools.chain.from_iterable(top_words))\n",
    "\n",
    "# for each topic, replace a word at a different index, to make it more interesting\n",
    "#replace_index = np.random.randint(0, 10, ldamodel.num_topics)\n",
    "\n",
    "replacements = []\n",
    "for topicno, words in enumerate(top_words):\n",
    "#    other_words = all_words.difference(words)\n",
    "#    replacement = np.random.choice(list(other_words))\n",
    "#    replacements.append((words[replace_index[topicno]], replacement))\n",
    "#    words[replace_index[topicno]] = replacement\n",
    "    print(\"Topic %i: %s\" % (topicno, ' '.join(words[:10])))"
   ]
  },
  {
   "cell_type": "code",
   "execution_count": 32,
   "metadata": {
    "collapsed": false
   },
   "outputs": [],
   "source": [
    "import pandas as pd\n",
    "website_list = [\"animalplanet\",\"natgeo\",\"Discovery\",\"TMZ\",\"HISTORY\",\"NBCSports\",\"ESPN\",\"nytimes\",\"cnn\",\"bbc\",\"theatlantic\"]\n",
    "final = pd.DataFrame({\"Topics\":np.arange(30)})\n",
    "for website in website_list:\n",
    "    text = sc.textFile(\"C:/Users/Suhas/Documents/MSBA/Semester Two/Harvesting Big Data/Project/Data/Website Scraped/\"+website+\"_top10_posts_BOW_*\")\n",
    "    text = text.map(removePunctuation)\n",
    "    text = text.map(removeStopWords)\n",
    "    text = text.map(stemmingWords)\n",
    "\n",
    "    word_list_1 = text.collect()[0]\n",
    "\n",
    "    #doc_clean = [doc.split() for doc in word_list]\n",
    "    #dictionary = corpora.Dictionary(doc_clean)\n",
    "    #corpus = [dictionary.doc2bow(text) for text in doc_clean]\n",
    "\n",
    "    doc_clean_1 = [doc.split() for doc in word_list_1]\n",
    "    #dictionary_1 = corpora.Dictionary(doc_clean_1)\n",
    "    corpus_1 = [dictionary.doc2bow(text) for text in doc_clean_1]\n",
    "\n",
    "\n",
    "    #doc_clean_1 = [doc.split() for doc in word_list_1]\n",
    "    vec_bow = dictionary.doc2bow(word_list_1)\n",
    "    vec_lsi = ldamodel[vec_bow] # convert the query to LSI space\n",
    "    vec_lsi\n",
    "\n",
    "    output = pd.DataFrame(vec_lsi)\n",
    "    output.columns = [\"Topics\", website]\n",
    "\n",
    "    final = final.merge(output)\n",
    "final.to_csv(\"topic_probability_clustering.csv\",index=False)"
   ]
  },
  {
   "cell_type": "code",
   "execution_count": 17,
   "metadata": {
    "collapsed": false
   },
   "outputs": [],
   "source": [
    "from numpy import array\n",
    "from math import sqrt\n",
    "\n",
    "from pyspark.mllib.clustering import KMeans, KMeansModel"
   ]
  },
  {
   "cell_type": "code",
   "execution_count": 18,
   "metadata": {
    "collapsed": false
   },
   "outputs": [],
   "source": [
    "# Load and parse the data\n",
    "data = sc.textFile(\"C:/Users/Suhas/Documents/MSBA/Semester Two/Harvesting Big Data/Project/Data/clustering_data.csv\")\n",
    "parsedData = data.map(lambda line: array([float(x) for x in line.split(',')]))"
   ]
  },
  {
   "cell_type": "code",
   "execution_count": 20,
   "metadata": {
    "collapsed": false
   },
   "outputs": [
    {
     "name": "stdout",
     "output_type": "stream",
     "text": [
      "Within Set Sum of Squared Error = 0.869162856962\n",
      "Within Set Sum of Squared Error = 0.628067211737\n",
      "Within Set Sum of Squared Error = 0.56437505902\n",
      "Within Set Sum of Squared Error = 0.525472923848\n",
      "Within Set Sum of Squared Error = 0.485478170919\n",
      "Within Set Sum of Squared Error = 0.449662611058\n",
      "Within Set Sum of Squared Error = 0.403843145127\n",
      "Within Set Sum of Squared Error = 0.370595384415\n",
      "Within Set Sum of Squared Error = 0.309042521303\n",
      "Within Set Sum of Squared Error = 0.281523712749\n",
      "Within Set Sum of Squared Error = 0.290407909418\n",
      "Within Set Sum of Squared Error = 0.231516480593\n",
      "Within Set Sum of Squared Error = 0.213888709397\n",
      "Within Set Sum of Squared Error = 0.213888709397\n",
      "Within Set Sum of Squared Error = 0.17736532506\n",
      "Within Set Sum of Squared Error = 0.173749261116\n",
      "Within Set Sum of Squared Error = 0.161586317645\n",
      "Within Set Sum of Squared Error = 0.17736532506\n",
      "Within Set Sum of Squared Error = 0.131260689323\n"
     ]
    }
   ],
   "source": [
    "sse_list = list()\n",
    "for i in range(1,20):\n",
    "    # Build the model (cluster the data)\n",
    "    clusters = KMeans.train(parsedData, i, maxIterations=10,\n",
    "                            runs=10, initializationMode=\"random\", seed = 1234)\n",
    "\n",
    "    # Evaluate clustering by computing Within Set Sum of Squared Errors\n",
    "    def error(point):\n",
    "        center = clusters.centers[clusters.predict(point)]\n",
    "        return sqrt(sum([x**2 for x in (point - center)]))\n",
    "\n",
    "    WSSSE = parsedData.map(lambda point: error(point)).reduce(lambda x, y: x + y)\n",
    "    sse_list.append(WSSSE)\n",
    "    print(\"Within Set Sum of Squared Error = \" + str(WSSSE))\n",
    "\n",
    "# Save and load model\n",
    "#clusters.save(sc, \"target/org/apache/spark/PythonKMeansExample/KMeansModel\")\n",
    "#sameModel = KMeansModel.load(sc, \"target/org/apache/spark/PythonKMeansExample/KMeansModel\")"
   ]
  },
  {
   "cell_type": "code",
   "execution_count": 23,
   "metadata": {
    "collapsed": false
   },
   "outputs": [
    {
     "data": {
      "text/plain": [
       "[<matplotlib.lines.Line2D at 0x1281beb8>]"
      ]
     },
     "execution_count": 23,
     "metadata": {},
     "output_type": "execute_result"
    },
    {
     "data": {
      "image/png": "[encoded data removed]",
      "text/plain": [
       "<matplotlib.figure.Figure at 0x135d07f0>"
      ]
     },
     "metadata": {},
     "output_type": "display_data"
    }
   ],
   "source": [
    "import numpy as np\n",
    "import matplotlib.pyplot as plt\n",
    "%matplotlib inline  \n",
    "plt.plot(sse_list)"
   ]
  },
  {
   "cell_type": "code",
   "execution_count": 37,
   "metadata": {
    "collapsed": false
   },
   "outputs": [],
   "source": [
    "import pandas as pd\n",
    "sse_plot = pd.DataFrame({'k':np.arange(1,20),'sse':sse_list})"
   ]
  },
  {
   "cell_type": "code",
   "execution_count": 166,
   "metadata": {
    "collapsed": false
   },
   "outputs": [
    {
     "data": {
      "text/plain": [
       "<bound method KMeansModel.save of <pyspark.mllib.clustering.KMeansModel object at 0x0000000027894FD0>>"
      ]
     },
     "execution_count": 166,
     "metadata": {},
     "output_type": "execute_result"
    }
   ],
   "source": [
    "clusters.save"
   ]
  },
  {
   "cell_type": "code",
   "execution_count": 168,
   "metadata": {
    "collapsed": false
   },
   "outputs": [
    {
     "data": {
      "text/plain": [
       "[array([ 0.03222045,  0.04118483,  0.02502697,  0.0470347 ,  0.02190892,\n",
       "         0.02268673,  0.0199363 ,  0.03487252,  0.02681475,  0.02988978,\n",
       "         0.02413561,  0.03863355,  0.03119778,  0.03880149,  0.04705844,\n",
       "         0.0357354 ,  0.02817384,  0.02761497]),\n",
       " array([ 0.03524044,  0.01072243,  0.02810085,  0.06828123,  0.0217448 ,\n",
       "         0.02571673,  0.01101781,  0.04704815,  0.05100597,  0.01771262,\n",
       "         0.01458848,  0.10316807,  0.01858107,  0.0238668 ,  0.03982263,\n",
       "         0.07477872,  0.12384077,  0.01089842]),\n",
       " array([ 0.03222045,  0.04118483,  0.02502697,  0.0470347 ,  0.02190892,\n",
       "         0.02268673,  0.0199363 ,  0.03487252,  0.02681475,  0.02988978,\n",
       "         0.02413561,  0.03863355,  0.03119778,  0.03880149,  0.04705844,\n",
       "         0.0357354 ,  0.02817384,  0.02761497]),\n",
       " array([ 0.03607311,  0.03526311,  0.03070915,  0.02538596,  0.0242442 ,\n",
       "         0.034811  ,  0.03220426,  0.03001514,  0.02681908,  0.0306746 ,\n",
       "         0.02906785,  0.03109322,  0.03615635,  0.04783159,  0.05110362,\n",
       "         0.03468599,  0.03349288,  0.03187497]),\n",
       " array([ 0.02255615,  0.04329312,  0.01142147,  0.02494486,  0.03707364,\n",
       "         0.01840014,  0.03900605,  0.03236733,  0.03451242,  0.05260936,\n",
       "         0.02295111,  0.04821898,  0.02060314,  0.03840716,  0.01571349,\n",
       "         0.05032243,  0.0114515 ,  0.02290961]),\n",
       " array([ 0.026723  ,  0.02823678,  0.03274008,  0.0498035 ,  0.03433012,\n",
       "         0.05815009,  0.03493342,  0.03341556,  0.02631256,  0.03590577,\n",
       "         0.03022529,  0.0221985 ,  0.01878709,  0.01007155,  0.0252264 ,\n",
       "         0.02684838,  0.02098522,  0.0371751 ]),\n",
       " array([ 0.02427324,  0.02323075,  0.03641513,  0.01497961,  0.03043131,\n",
       "         0.01973704,  0.04330668,  0.03313344,  0.026864  ,  0.0295355 ,\n",
       "         0.0214692 ,  0.02649277,  0.03529197,  0.04481784,  0.02267234,\n",
       "         0.0378889 ,  0.02322584,  0.04403469])]"
      ]
     },
     "execution_count": 168,
     "metadata": {},
     "output_type": "execute_result"
    }
   ],
   "source": [
    "clusters.clusterCenters"
   ]
  },
  {
   "cell_type": "code",
   "execution_count": null,
   "metadata": {
    "collapsed": true
   },
   "outputs": [],
   "source": []
  }
 ],
 "metadata": {
  "anaconda-cloud": {},
  "kernelspec": {
   "display_name": "Python [Root]",
   "language": "python",
   "name": "Python [Root]"
  },
  "language_info": {
   "codemirror_mode": {
    "name": "ipython",
    "version": 2
   },
   "file_extension": ".py",
   "mimetype": "text/x-python",
   "name": "python",
   "nbconvert_exporter": "python",
   "pygments_lexer": "ipython2",
   "version": "2.7.12"
  }
 },
 "nbformat": 4,
 "nbformat_minor": 0
}
