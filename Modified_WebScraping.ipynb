{
 "cells": [
  {
   "cell_type": "markdown",
   "metadata": {},
   "source": [
    "<h1 style=\"font-family:serif;\">Bag of words</h1>"
   ]
  },
  {
   "cell_type": "markdown",
   "metadata": {},
   "source": [
    "<i style=\"font-family:serif;\"><font size=\"4\">Load the dataset</font></i>"
   ]
  },
  {
   "cell_type": "code",
   "execution_count": 3,
   "metadata": {
    "collapsed": false
   },
   "outputs": [],
   "source": [
    "import pandas as pd\n",
    "data = pd.read_csv('top10_posts_atlantic.csv')"
   ]
  },
  {
   "cell_type": "code",
   "execution_count": 5,
   "metadata": {
    "collapsed": false
   },
   "outputs": [],
   "source": [
    "# Create a list with unique week numbers\n",
    "week_num = data['week_number'].unique()"
   ]
  },
  {
   "cell_type": "markdown",
   "metadata": {},
   "source": [
    "<i style=\"font-family:serif;\"><font size=\"4\">Creating bag of words for the top posts</font></i>"
   ]
  },
  {
   "cell_type": "code",
   "execution_count": null,
   "metadata": {
    "collapsed": true
   },
   "outputs": [],
   "source": [
    "import pandas as pd\n",
    "import re\n",
    "import urllib\n",
    "from bs4 import BeautifulSoup\n",
    "import urllib2\n",
    "from cookielib import CookieJar\n",
    "from bs4 import BeautifulSoup\n",
    "cj = CookieJar()\n",
    "\n",
    "for i in week_num:\n",
    "    data_week_filtered = data[data.week_number == i]\n",
    "    for row in range(0,len(data_week_filtered)):\n",
    "        link = data_week_filtered.iloc[row]['status_link']\n",
    "        opener = urllib2.build_opener(urllib2.HTTPCookieProcessor(cj))\n",
    "        html = urllib.urlopen(link).read()\n",
    "        soup = BeautifulSoup(html, 'html.parser')\n",
    "        text =[]\n",
    "        for link in soup.findAll('p'):\n",
    "            text.append(link.string)\n",
    "        with open(\"atlantic_top10_posts_BOW_\"+str(i)+\".txt\", \"a\") as myfile:\n",
    "            myfile.write(str(text))"
   ]
  }
 ],
 "metadata": {
  "anaconda-cloud": {},
  "kernelspec": {
   "display_name": "Python [Root]",
   "language": "python",
   "name": "Python [Root]"
  },
  "language_info": {
   "codemirror_mode": {
    "name": "ipython",
    "version": 2
   },
   "file_extension": ".py",
   "mimetype": "text/x-python",
   "name": "python",
   "nbconvert_exporter": "python",
   "pygments_lexer": "ipython2",
   "version": "2.7.12"
  }
 },
 "nbformat": 4,
 "nbformat_minor": 0
}
